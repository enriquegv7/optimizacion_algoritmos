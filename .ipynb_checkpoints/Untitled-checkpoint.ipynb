{
 "cells": [
  {
   "cell_type": "code",
   "execution_count": null,
   "id": "6d51e1c4",
   "metadata": {},
   "outputs": [],
   "source": [
    "import pandas as pd\n",
    "import random\n",
    "\n",
    "datos_excel = pd.read_excel(\"datos_problema.xlsx\", index_col=0)\n",
    "\n",
    "# Datos del problema\n",
    "num_actores = 10\n",
    "num_tomas = 30\n",
    "max_tomas_por_dia = 6\n"
   ]
  },
  {
   "cell_type": "code",
   "execution_count": null,
   "id": "6b69f8f3",
   "metadata": {},
   "outputs": [],
   "source": [
    "# Generar población inicial\n",
    "def generar_poblacion_inicial(tamano_poblacion):\n",
    "    poblacion = []\n",
    "    for _ in range(tamano_poblacion):\n",
    "        cromosoma = [random.randint(1, tamano_poblacion // max_tomas_por_dia) for _ in range(num_tomas)]\n",
    "        poblacion.append(cromosoma)\n",
    "    return poblacion"
   ]
  },
  {
   "cell_type": "code",
   "execution_count": null,
   "id": "04e43fc5",
   "metadata": {},
   "outputs": [],
   "source": [
    "def calcular_aptitud(cromosoma):\n",
    "    sumas_dias_por_actor = [0] * num_actores\n",
    "    for i, dia in enumerate(cromosoma):\n",
    "        toma_actores = datos_excel.iloc[i, :-1]\n",
    "        for actor, valor in toma_actores.items():\n",
    "            if valor == 1:\n",
    "                sumas_dias_por_actor[actor - 1] += dia\n",
    "    return sum(sumas_dias_por_actor)"
   ]
  },
  {
   "cell_type": "code",
   "execution_count": null,
   "id": "b16ff46a",
   "metadata": {},
   "outputs": [],
   "source": [
    "def cumple_restriccion(cromosoma):\n",
    "    conteo_tomas_por_dia = [0] * (tamano_poblacion // max_tomas_por_dia + 1)\n",
    "    for dia in cromosoma:\n",
    "        conteo_tomas_por_dia[dia] += 1\n",
    "        if conteo_tomas_por_dia[dia] > max_tomas_por_dia:\n",
    "            return False\n",
    "    return True"
   ]
  },
  {
   "cell_type": "code",
   "execution_count": null,
   "id": "e296952c",
   "metadata": {},
   "outputs": [],
   "source": [
    "# Selección de padres por torneo\n",
    "def seleccion_padres(poblacion, tamano_torneo):\n",
    "    padres = []\n",
    "    for _ in range(len(poblacion)):\n",
    "        torneo = random.sample(poblacion, tamano_torneo)\n",
    "        ganador = min(torneo, key=calcular_aptitud)\n",
    "        padres.append(ganador)\n",
    "    return padres"
   ]
  },
  {
   "cell_type": "code",
   "execution_count": null,
   "id": "1992f5c5",
   "metadata": {},
   "outputs": [],
   "source": [
    "def cruce(padre1, padre2):\n",
    "    punto_cruce = random.randint(1, num_tomas - 1)\n",
    "    hijo1 = padre1[:punto_cruce] + padre2[punto_cruce:]\n",
    "    hijo2 = padre2[:punto_cruce] + padre1[punto_cruce:]\n",
    "    return hijo1, hijo2"
   ]
  },
  {
   "cell_type": "code",
   "execution_count": null,
   "id": "28f1cea5",
   "metadata": {},
   "outputs": [],
   "source": [
    "# Operador de mutación\n",
    "def mutacion(cromosoma, probabilidad_mutacion):\n",
    "    for i in range(len(cromosoma)):\n",
    "        if random.random() < probabilidad_mutacion:\n",
    "            cromosoma[i] = random.randint(1, len(cromosoma) // max_tomas_por_dia)\n",
    "    return cromosoma"
   ]
  },
  {
   "cell_type": "code",
   "execution_count": null,
   "id": "529dc736",
   "metadata": {},
   "outputs": [],
   "source": [
    "# Algoritmo genético\n",
    "def algoritmo_genetico(tamano_poblacion, num_generaciones, tamano_torneo, probabilidad_cruce, probabilidad_mutacion):\n",
    "    poblacion = generar_poblacion_inicial(tamano_poblacion)\n",
    "    for _ in range(num_generaciones):\n",
    "        padres = seleccion_padres(poblacion, tamano_torneo)\n",
    "        descendencia = []\n",
    "        for i in range(0, len(padres), 2):\n",
    "            if random.random() < probabilidad_cruce:\n",
    "                hijo1, hijo2 = cruce(padres[i], padres[i+1])\n",
    "                descendencia.append(mutacion(hijo1, probabilidad_mutacion))\n",
    "                descendencia.append(mutacion(hijo2, probabilidad_mutacion))\n",
    "            else:\n",
    "                descendencia.append(mutacion(padres[i], probabilidad_mutacion))\n",
    "                descendencia.append(mutacion(padres[i+1], probabilidad_mutacion))\n",
    "        poblacion = descendencia\n",
    "    mejor_solucion = min(poblacion, key=calcular_aptitud)\n",
    "    return mejor_solucion"
   ]
  },
  {
   "cell_type": "code",
   "execution_count": null,
   "id": "317b6de1",
   "metadata": {},
   "outputs": [],
   "source": [
    "# Parámetros del algoritmo genético\n",
    "tamano_poblacion = 10\n",
    "num_generaciones = 10\n",
    "tamano_torneo = 2\n",
    "probabilidad_cruce = 0.8\n",
    "probabilidad_mutacion = 0.1\n",
    "\n",
    "# Ejecutar algoritmo genético hasta encontrar una solución válida\n",
    "solucion_valida = False\n",
    "while not solucion_valida:\n",
    "    mejor_solucion = algoritmo_genetico(tamano_poblacion, num_generaciones, tamano_torneo, probabilidad_cruce, probabilidad_mutacion)\n",
    "    if cumple_restriccion(mejor_solucion):\n",
    "        solucion_valida = True\n",
    "\n",
    "# Imprimir resultados\n",
    "print(\"Mejor asignación de tomas a días:\")\n",
    "for i, dia in enumerate(mejor_solucion):\n",
    "    print(f\"Toma {i+1} asignada al día {dia}\")"
   ]
  },
  {
   "cell_type": "code",
   "execution_count": null,
   "id": "e1234367",
   "metadata": {},
   "outputs": [],
   "source": []
  }
 ],
 "metadata": {
  "kernelspec": {
   "display_name": "Python 3 (ipykernel)",
   "language": "python",
   "name": "python3"
  },
  "language_info": {
   "codemirror_mode": {
    "name": "ipython",
    "version": 3
   },
   "file_extension": ".py",
   "mimetype": "text/x-python",
   "name": "python",
   "nbconvert_exporter": "python",
   "pygments_lexer": "ipython3",
   "version": "3.11.5"
  }
 },
 "nbformat": 4,
 "nbformat_minor": 5
}
