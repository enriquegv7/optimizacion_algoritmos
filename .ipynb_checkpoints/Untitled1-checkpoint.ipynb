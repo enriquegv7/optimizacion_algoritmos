{
 "cells": [
  {
   "cell_type": "code",
   "execution_count": 28,
   "id": "76de4925",
   "metadata": {},
   "outputs": [
    {
     "name": "stdout",
     "output_type": "stream",
     "text": [
      "       1   2   3   4   5  6  7  8  9  10  Unnamed: 11\n",
      "1.0    1   1   1   1   1  0  0  0  0   0            5\n",
      "2.0    0   0   1   1   1  0  0  0  0   0            3\n",
      "3.0    0   1   0   0   1  0  1  0  0   0            3\n",
      "4.0    1   1   0   0   0  0  1  1  0   0            4\n",
      "5.0    0   1   0   1   0  0  0  1  0   0            3\n",
      "6.0    1   1   0   1   1  0  0  0  0   0            4\n",
      "7.0    1   1   0   1   1  0  0  0  0   0            4\n",
      "8.0    1   1   0   0   0  1  0  0  0   0            3\n",
      "9.0    1   1   0   1   0  0  0  0  0   0            3\n",
      "10.0   1   1   0   0   0  1  0  0  1   0            4\n",
      "11.0   1   1   1   0   1  0  0  1  0   0            5\n",
      "12.0   1   1   1   1   0  1  0  0  0   0            5\n",
      "13.0   1   0   0   1   1  0  0  0  0   0            3\n",
      "14.0   1   0   1   0   0  1  0  0  0   0            3\n",
      "15.0   1   1   0   0   0  0  1  0  0   0            3\n",
      "16.0   0   0   0   1   0  0  0  0  0   1            2\n",
      "17.0   1   0   1   0   0  0  0  0  0   0            2\n",
      "18.0   0   0   1   0   0  1  0  0  0   0            2\n",
      "19.0   1   0   1   0   0  0  0  0  0   0            2\n",
      "20.0   1   0   1   1   1  0  0  0  0   0            4\n",
      "21.0   0   0   0   0   0  1  0  1  0   0            2\n",
      "22.0   1   1   1   1   0  0  0  0  0   0            4\n",
      "23.0   1   0   1   0   0  0  0  0  0   0            2\n",
      "24.0   0   0   1   0   0  1  0  0  0   0            2\n",
      "25.0   1   1   0   1   0  0  0  0  0   1            4\n",
      "26.0   1   0   1   0   1  0  0  0  1   0            4\n",
      "27.0   0   0   0   1   1  0  0  0  0   0            2\n",
      "28.0   1   0   0   1   0  0  0  0  0   0            2\n",
      "29.0   1   0   0   0   1  1  0  0  0   0            3\n",
      "30.0   1   0   0   1   0  0  0  0  0   0            2\n",
      "NaN   22  14  13  15  11  8  3  4  2   2           99\n"
     ]
    }
   ],
   "source": [
    "import pandas as pd\n",
    "import random\n",
    "\n",
    "datos_excel = pd.read_excel(\"datos_problema.xlsx\", index_col=0)\n",
    "\n"
   ]
  },
  {
   "cell_type": "code",
   "execution_count": 18,
   "id": "adda0ee1",
   "metadata": {},
   "outputs": [],
   "source": []
  },
  {
   "cell_type": "code",
   "execution_count": 19,
   "id": "107de774",
   "metadata": {},
   "outputs": [],
   "source": []
  },
  {
   "cell_type": "code",
   "execution_count": 20,
   "id": "6ae301b5",
   "metadata": {},
   "outputs": [],
   "source": []
  },
  {
   "cell_type": "code",
   "execution_count": 21,
   "id": "1447099a",
   "metadata": {},
   "outputs": [],
   "source": []
  },
  {
   "cell_type": "code",
   "execution_count": 22,
   "id": "177ea26d",
   "metadata": {},
   "outputs": [],
   "source": []
  },
  {
   "cell_type": "code",
   "execution_count": 23,
   "id": "c70e49a9",
   "metadata": {},
   "outputs": [],
   "source": []
  },
  {
   "cell_type": "code",
   "execution_count": null,
   "id": "2fa8e774",
   "metadata": {},
   "outputs": [],
   "source": []
  },
  {
   "cell_type": "code",
   "execution_count": null,
   "id": "fe2c38f9",
   "metadata": {},
   "outputs": [],
   "source": []
  },
  {
   "cell_type": "code",
   "execution_count": null,
   "id": "a409e779",
   "metadata": {},
   "outputs": [],
   "source": []
  },
  {
   "cell_type": "code",
   "execution_count": null,
   "id": "7b56fea8",
   "metadata": {},
   "outputs": [],
   "source": []
  }
 ],
 "metadata": {
  "kernelspec": {
   "display_name": "Python 3 (ipykernel)",
   "language": "python",
   "name": "python3"
  },
  "language_info": {
   "codemirror_mode": {
    "name": "ipython",
    "version": 3
   },
   "file_extension": ".py",
   "mimetype": "text/x-python",
   "name": "python",
   "nbconvert_exporter": "python",
   "pygments_lexer": "ipython3",
   "version": "3.11.5"
  }
 },
 "nbformat": 4,
 "nbformat_minor": 5
}
