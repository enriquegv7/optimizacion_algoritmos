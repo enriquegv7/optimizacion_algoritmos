{
 "cells": [
  {
   "cell_type": "code",
   "execution_count": 8,
   "id": "2d5e2afd",
   "metadata": {},
   "outputs": [
    {
     "name": "stdout",
     "output_type": "stream",
     "text": [
      "Requirement already satisfied: requests in c:\\users\\enriq\\anaconda3\\lib\\site-packages (2.31.0)\n",
      "Requirement already satisfied: charset-normalizer<4,>=2 in c:\\users\\enriq\\anaconda3\\lib\\site-packages (from requests) (2.0.4)\n",
      "Requirement already satisfied: idna<4,>=2.5 in c:\\users\\enriq\\anaconda3\\lib\\site-packages (from requests) (3.4)\n",
      "Requirement already satisfied: urllib3<3,>=1.21.1 in c:\\users\\enriq\\anaconda3\\lib\\site-packages (from requests) (1.26.16)\n",
      "Requirement already satisfied: certifi>=2017.4.17 in c:\\users\\enriq\\anaconda3\\lib\\site-packages (from requests) (2023.7.22)\n",
      "Requirement already satisfied: tsplib95 in c:\\users\\enriq\\anaconda3\\lib\\site-packages (0.7.1)\n",
      "Requirement already satisfied: Click>=6.0 in c:\\users\\enriq\\anaconda3\\lib\\site-packages (from tsplib95) (8.0.4)\n",
      "Requirement already satisfied: Deprecated~=1.2.9 in c:\\users\\enriq\\anaconda3\\lib\\site-packages (from tsplib95) (1.2.14)\n",
      "Requirement already satisfied: networkx~=2.1 in c:\\users\\enriq\\anaconda3\\lib\\site-packages (from tsplib95) (2.8.8)\n",
      "Requirement already satisfied: tabulate~=0.8.7 in c:\\users\\enriq\\anaconda3\\lib\\site-packages (from tsplib95) (0.8.10)\n",
      "Requirement already satisfied: colorama in c:\\users\\enriq\\anaconda3\\lib\\site-packages (from Click>=6.0->tsplib95) (0.4.6)\n",
      "Requirement already satisfied: wrapt<2,>=1.10 in c:\\users\\enriq\\anaconda3\\lib\\site-packages (from Deprecated~=1.2.9->tsplib95) (1.14.1)\n"
     ]
    }
   ],
   "source": [
    "!pip install requests    \n",
    "!pip install tsplib95  "
   ]
  },
  {
   "cell_type": "code",
   "execution_count": null,
   "id": "6382e6b4",
   "metadata": {},
   "outputs": [],
   "source": []
  },
  {
   "cell_type": "code",
   "execution_count": 1,
   "id": "922a80e7",
   "metadata": {},
   "outputs": [],
   "source": [
    "import tsplib95\n",
    "import random\n",
    "\n",
    "def cost(problem, tour):\n",
    "    total_cost = 0\n",
    "    for i in range(len(tour)):\n",
    "        total_cost += problem.get_weight(tour[i], tour[(i + 1) % len(tour)])\n",
    "    return total_cost\n",
    "\n",
    "def random_tour(problem):\n",
    "    tour = list(problem.get_nodes())\n",
    "    random.shuffle(tour)\n",
    "    return tour\n",
    "\n",
    "def apply_move(tour, move):\n",
    "    tour[move[0]], tour[move[1]] = tour[move[1]], tour[move[0]]\n",
    "\n",
    "def generate_neighborhood(tour):\n",
    "    neighborhood = []\n",
    "    for i in range(len(tour)):\n",
    "        for j in range(i + 1, len(tour)):\n",
    "            neighborhood.append((i, j))\n",
    "    return neighborhood"
   ]
  },
  {
   "cell_type": "code",
   "execution_count": 2,
   "id": "02cfef37",
   "metadata": {},
   "outputs": [
    {
     "name": "stdout",
     "output_type": "stream",
     "text": [
      "Mejor tour encontrado: [25, 10, 8, 9, 41, 23, 40, 24, 21, 39, 14, 16, 15, 37, 17, 36, 35, 31, 7, 6, 4, 3, 2, 27, 28, 30, 38, 22, 29, 18, 26, 5, 13, 19, 1, 0, 32, 20, 33, 34, 12, 11]\n",
      "Costo del mejor tour: 1727\n"
     ]
    }
   ],
   "source": [
    "def tabu_search(problem, tabu_size=10, max_iter=1000):\n",
    "    current_tour = random_tour(problem)\n",
    "    best_tour = current_tour.copy()\n",
    "    tabu_list = []\n",
    "    iter_count = 0\n",
    "\n",
    "    while iter_count < max_iter:\n",
    "        neighborhood = generate_neighborhood(current_tour)\n",
    "        best_move = None\n",
    "        best_cost = float('inf')\n",
    "\n",
    "        for move in neighborhood:\n",
    "            if move in tabu_list:\n",
    "                continue\n",
    "\n",
    "            temp_tour = current_tour.copy()\n",
    "            apply_move(temp_tour, move)\n",
    "            move_cost = cost(problem, temp_tour)\n",
    "\n",
    "            if move_cost < best_cost:\n",
    "                best_move = move\n",
    "                best_cost = move_cost\n",
    "\n",
    "        if best_move is None:\n",
    "            break\n",
    "\n",
    "        apply_move(current_tour, best_move)\n",
    "        tabu_list.append(best_move)\n",
    "        if len(tabu_list) > tabu_size:\n",
    "            tabu_list.pop(0)\n",
    "\n",
    "        if cost(problem, current_tour) < cost(problem, best_tour):\n",
    "            best_tour = current_tour.copy()\n",
    "\n",
    "        iter_count += 1\n",
    "\n",
    "    return best_tour, cost(problem, best_tour)\n",
    "\n",
    "# Ejemplo\n",
    "file = \"swiss42.tsp\"\n",
    "problem = tsplib95.load(file)\n",
    "\n",
    "best_tour, best_cost = tabu_search(problem)\n",
    "\n",
    "print(\"Mejor tour encontrado:\", best_tour)\n",
    "print(\"Costo del mejor tour:\", best_cost)"
   ]
  },
  {
   "cell_type": "code",
   "execution_count": null,
   "id": "54f8cf1d",
   "metadata": {},
   "outputs": [],
   "source": []
  }
 ],
 "metadata": {
  "kernelspec": {
   "display_name": "Python 3 (ipykernel)",
   "language": "python",
   "name": "python3"
  },
  "language_info": {
   "codemirror_mode": {
    "name": "ipython",
    "version": 3
   },
   "file_extension": ".py",
   "mimetype": "text/x-python",
   "name": "python",
   "nbconvert_exporter": "python",
   "pygments_lexer": "ipython3",
   "version": "3.11.5"
  }
 },
 "nbformat": 4,
 "nbformat_minor": 5
}
