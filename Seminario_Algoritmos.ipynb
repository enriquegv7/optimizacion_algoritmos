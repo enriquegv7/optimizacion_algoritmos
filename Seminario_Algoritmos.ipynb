{
 "cells": [
  {
   "cell_type": "markdown",
   "metadata": {
    "id": "hVbXYX-RfPWh"
   },
   "source": [
    "# Algoritmos de optimización - Seminario<br>\n",
    "Nombre y Apellidos: Enrique Garcia Velasco  <br>\n",
    "Url: https://github.com/enriquegv7/optimizacion_algoritmos.git<br>\n",
    "Problema:\n",
    "> 1. Sesiones de doblaje <br>\n",
    ">2. Organizar los horarios de partidos de La Liga<br>\n",
    ">3. Combinar cifras y operaciones\n",
    "\n",
    "Descripción del problema:(copiar enunciado)\n",
    "\n",
    "....\n",
    "\n",
    "(*) La respuesta es obligatoria\n",
    "\n",
    "\n",
    "\n",
    "\n",
    "\n",
    "                                        "
   ]
  },
  {
   "cell_type": "markdown",
   "metadata": {
    "id": "3_-exlrTgLd-"
   },
   "source": [
    "(*)¿Cuantas posibilidades hay sin tener en cuenta las restricciones?<br>\n",
    "\n",
    "\n",
    "\n",
    "¿Cuantas posibilidades hay teniendo en cuenta todas las restricciones.\n",
    "\n",
    "\n"
   ]
  },
  {
   "cell_type": "markdown",
   "metadata": {
    "id": "WfCUqJyKhPcw"
   },
   "source": [
    "Variaciones con repetición:\n",
    " - Si eliminamos la limitación de poder repetir operadores y números, pero aún mantenemos la restricción de utilizar 4 operadores y 5 números, nos encontramos con un escenario de variaciones con repetición. Esto significa que podemos generar combinaciones donde los elementos se pueden repetir.\n",
    " - Al aplicar la fórmula $VR_m^n = m^n$  donde m representa el numero de opciones y la n la cantidad de elementos, obtenemos $9^5*4^4 = 15.116.544$\n",
    " \n",
    "Permutaciones sin repetición:\n",
    " - Cuando consideramos las posibilidades dentro de las restricciones, estamos tratando con un problema de permutación sin repetición. Aquí, queremos determinar cuántas formas únicas podemos ordenar los elementos sin permitir repeticiones.\n",
    " - Utilizando la fórmula $P_n^r = n! \\over r!*(n-r)!$  dfonde n es el número total de elementos y r es la cantidad de elementos a seleccionar, obtenemos $9! \\over r!*(9-5)!$ $ * 4! = 362.880$"
   ]
  },
  {
   "cell_type": "code",
   "execution_count": null,
   "metadata": {
    "id": "iq6Fe32MgpDX"
   },
   "outputs": [],
   "source": []
  },
  {
   "cell_type": "markdown",
   "metadata": {
    "id": "dzynfVJahHoY"
   },
   "source": [
    "Modelo para el espacio de soluciones<br>\n",
    "(*) ¿Cual es la estructura de datos que mejor se adapta al problema? Argumentalo.(Es posible que hayas elegido una al principio y veas la necesidad de cambiar, arguentalo)\n"
   ]
  },
  {
   "cell_type": "markdown",
   "metadata": {
    "id": "xFIJrOwKi2Ti"
   },
   "source": [
    "Respuesta"
   ]
  },
  {
   "cell_type": "code",
   "execution_count": 433,
   "metadata": {
    "id": "38c-7-ejhJmA"
   },
   "outputs": [],
   "source": [
    "numbers_list = ['1', '2', '3', '4', '5', '6', '7', '8', '9']\n",
    "operators_list = ['+', '-', '*', '/']"
   ]
  },
  {
   "cell_type": "markdown",
   "metadata": {
    "id": "7Z9U2W7bi-XS"
   },
   "source": [
    "Según el modelo para el espacio de soluciones<br>\n",
    "(*)¿Cual es la función objetivo?\n",
    "\n",
    "(*)¿Es un problema de maximización o minimización?"
   ]
  },
  {
   "cell_type": "markdown",
   "metadata": {
    "id": "hBalWLM7j1_d"
   },
   "source": [
    "En este contexto, no estamos buscando maximizar ni minimizar ninguna función específica. En lugar de eso, nuestro objetivo es encontrar la combinación exacta de operaciones que nos llevará al resultado deseado. No hay una función objetivo definida en términos de maximización o minimización, ya que nuestra meta es obtener un resultado específico mediante la manipulación adecuada de los números y operadores disponibles."
   ]
  },
  {
   "cell_type": "code",
   "execution_count": null,
   "metadata": {
    "id": "pDA-rg3Gj5Lz"
   },
   "outputs": [],
   "source": []
  },
  {
   "cell_type": "markdown",
   "metadata": {
    "id": "rlnTYgY1j6I2"
   },
   "source": [
    "Diseña un algoritmo para resolver el problema por fuerza bruta"
   ]
  },
  {
   "cell_type": "markdown",
   "metadata": {
    "id": "70rDgxYXkC8r"
   },
   "source": [
    "Respuesta"
   ]
  },
  {
   "cell_type": "code",
   "execution_count": 434,
   "metadata": {
    "id": "CJb5sQ0qkENy"
   },
   "outputs": [
    {
     "name": "stdout",
     "output_type": "stream",
     "text": [
      "Solución encontrada por fuerza bruta: 1*22+33-44-7\n",
      "Iteraciones necesarias: 646\n"
     ]
    }
   ],
   "source": [
    "import itertools\n",
    "\n",
    "# Establezco el resultado que quiero encontrar\n",
    "expected_result = 4.0\n",
    "\n",
    "\n",
    "# Creo variables para guardar datos\n",
    "iterations = 0\n",
    "solution_found = None\n",
    "\n",
    "# Bucle de fuerza bruta.\n",
    "# Itero por todas las combinaciones posibles de números y operadores.\n",
    "for number_combination in itertools.permutations(numbers_list, 5):\n",
    "    for operator_combination in itertools.product(operators_list, repeat=4):\n",
    "        iterations += 1\n",
    "\n",
    "        # Construyo la expresión matemática\n",
    "        expression = ''.join('{}{}{}'.format(number_combination[i], operator_combination[i], number_combination[i+1]) for i in range(4))\n",
    "        \n",
    "        # Evalúo la expresión y compruebo si el resultado coincide con el esperado\n",
    "        try:\n",
    "            result = eval(expression)\n",
    "            if result == expected_result:\n",
    "                solution_found = expression\n",
    "                break\n",
    "        except ZeroDivisionError:\n",
    "            continue  # Ignoro divisiones por cero\n",
    "    \n",
    "    if solution_found:\n",
    "        break\n",
    "\n",
    "# Muestro los resultados\n",
    "if solution_found:\n",
    "    print(\"Solución encontrada por fuerza bruta:\", solution_found)\n",
    "else:\n",
    "    print(\"No se encontró ninguna solución.\")\n",
    "\n",
    "print(\"Iteraciones necesarias:\", iterations)\n"
   ]
  },
  {
   "cell_type": "markdown",
   "metadata": {
    "id": "tgrnsC2nkFa8"
   },
   "source": [
    "Calcula la complejidad del algoritmo por fuerza bruta"
   ]
  },
  {
   "cell_type": "markdown",
   "metadata": {
    "id": "9eUd3xwckP68"
   },
   "source": [
    "La complejidad es $O(n^2)$ debido a dos bucles anidados que iteran sobre todas las combinaciones posibles de números y operadores en una búsqueda por fuerza bruta hasta encontrar una solución."
   ]
  },
  {
   "cell_type": "code",
   "execution_count": null,
   "metadata": {
    "id": "rvZWwL-ckRST"
   },
   "outputs": [],
   "source": []
  },
  {
   "cell_type": "markdown",
   "metadata": {
    "id": "txbrmLmskReM"
   },
   "source": [
    "(*)Diseña un algoritmo que mejore la complejidad del algortimo por fuerza bruta. Argumenta porque crees que mejora el algoritmo por fuerza bruta"
   ]
  },
  {
   "cell_type": "markdown",
   "metadata": {
    "id": "hLrVwt5QkZPD"
   },
   "source": [
    "Respuesta"
   ]
  },
  {
   "cell_type": "code",
   "execution_count": 436,
   "metadata": {
    "id": "m1eyM21Vkabg"
   },
   "outputs": [
    {
     "name": "stdout",
     "output_type": "stream",
     "text": [
      "Solución encontrada: 8/4-3*1+5\n",
      "Iteraciones requeridas: 56\n"
     ]
    }
   ],
   "source": [
    "import random\n",
    "\n",
    "# Inicialización de variables necesarias\n",
    "iterations = 0\n",
    "max_iterations = 1000\n",
    "expected_result = 4.0\n",
    "discarded_solutions = set()\n",
    "solution_found = None\n",
    "\n",
    "# Bucle que se ejecutará mientras no se encuentre una solución válida y no se alcance el máximo de iteraciones\n",
    "while solution_found is None and iterations < max_iterations:\n",
    "    iterations += 1\n",
    "    \n",
    "    # Genero una muestra aleatoria de 5 elementos a partir del vector de números\n",
    "    numbers = random.sample(numbers_list, 5)\n",
    "\n",
    "    # Hago un reordenamiento aleatorio del vector de operadores\n",
    "    operators = random.sample(operators_list, 4)\n",
    "\n",
    "    # Combino ambas muestras anteriores para crear la fórmula matemática\n",
    "    possible_solution = ''.join([str(numbers[i]) + operators[i] for i in range(4)] + [str(numbers[4])])\n",
    "\n",
    "    # Compruebo si la solución ya fue descartada anteriormente\n",
    "    if possible_solution in discarded_solutions:\n",
    "        continue\n",
    "\n",
    "    # Evalúo la expresión y compruebo si el resultado coincide con el esperado\n",
    "    result = eval(possible_solution)\n",
    "    if result == expected_result:\n",
    "        solution_found = possible_solution\n",
    "    else:\n",
    "        # Si la solución no es válida, la añado al conjunto de soluciones descartadas\n",
    "        discarded_solutions.add(possible_solution)\n",
    "\n",
    "if solution_found:\n",
    "    print(\"Solución encontrada:\", solution_found)\n",
    "    print(\"Iteraciones requeridas:\", iterations)\n",
    "else:\n",
    "    print(\"No se ha encontrado una solución después de\", max_iterations, \"iteraciones\")\n"
   ]
  },
  {
   "cell_type": "markdown",
   "metadata": {
    "id": "eGDB4K6uk1iN"
   },
   "source": [
    "(*)Calcula la complejidad del algoritmo"
   ]
  },
  {
   "cell_type": "markdown",
   "metadata": {
    "id": "NhpTh_BPk1ms"
   },
   "source": [
    "\n",
    "Este algoritmo mejora la eficiencia en comparación con el de fuerza bruta al utilizar un único bucle en lugar de dos. Además, al buscar soluciones de manera aleatoria, existe la posibilidad de encontrar una solución en muy pocas iteraciones. Es importante destacar que estas mejoras son aplicables dentro de las restricciones específicas de este problema. En situaciones con menos restricciones, el algoritmo de fuerza bruta podría no encontrar una solución en un tiempo finito, mientras que este algoritmo aleatorio tendría más probabilidades de hacerlo."
   ]
  },
  {
   "cell_type": "code",
   "execution_count": null,
   "metadata": {
    "id": "nREzhkStlCq8"
   },
   "outputs": [],
   "source": []
  },
  {
   "cell_type": "markdown",
   "metadata": {
    "id": "3M6QjTsSkmYe"
   },
   "source": [
    "Según el problema (y tenga sentido), diseña un juego de datos de entrada aleatorios"
   ]
  },
  {
   "cell_type": "markdown",
   "metadata": {
    "id": "Jc3_OlyNkvjZ"
   },
   "source": [
    "En este contexto, no resulta práctico emplear un enfoque basado en datos de entrada aleatorios, dado que los datos de entrada deben mantenerse constantes y el orden no afecta."
   ]
  },
  {
   "cell_type": "code",
   "execution_count": null,
   "metadata": {
    "id": "sJ-N2etjkyWc"
   },
   "outputs": [],
   "source": []
  },
  {
   "cell_type": "markdown",
   "metadata": {
    "id": "zy5ZROmjlGo1"
   },
   "source": [
    "Aplica el algoritmo al juego de datos generado"
   ]
  },
  {
   "cell_type": "markdown",
   "metadata": {
    "id": "_Cmj-PVylMsa"
   },
   "source": [
    "No corresponde aplicarlo, porque se evaluan todas las combinaciones posibles como se vio anteriomente"
   ]
  },
  {
   "cell_type": "code",
   "execution_count": null,
   "metadata": {
    "id": "Jkx8GeiYlUz1"
   },
   "outputs": [],
   "source": []
  },
  {
   "cell_type": "markdown",
   "metadata": {
    "id": "eTFWUJQrtGcv"
   },
   "source": [
    "Enumera las referencias que has utilizado(si ha sido necesario) para llevar a cabo el trabajo"
   ]
  },
  {
   "cell_type": "markdown",
   "metadata": {
    "id": "YKQ_mRBttWsP"
   },
   "source": [
    "Videos y apuntes de la asignatura"
   ]
  },
  {
   "cell_type": "markdown",
   "metadata": {
    "id": "kAkDPUyRtYyH"
   },
   "source": [
    "Describe brevemente las lineas de como crees que es posible avanzar en el estudio del problema. Ten en cuenta incluso posibles variaciones del problema y/o variaciones al alza del tamaño"
   ]
  },
  {
   "cell_type": "markdown",
   "metadata": {
    "id": "IE0uZmo-tZu-"
   },
   "source": [
    "Una manera de avanzar en el estudio de este problema sería explorar enfoques heurísticos más sofisticados que permitan reducir el espacio de búsqueda y aumentar la eficiencia computacional. Esto podría incluir técnicas de poda o búsqueda informada, como el algoritmo de búsqueda A*, que prioriza las soluciones más prometedoras y evita explorar ramas poco probables. Además, se podría considerar la aplicación de técnicas de aprendizaje automático para entrenar modelos capaces de predecir qué combinaciones de números y operadores son más propensas a conducir a la solución deseada, lo que podría agilizar el proceso de búsqueda. En caso de variaciones del problema, como la eliminación de restricciones o el aumento del tamaño de los conjuntos de datos, se podría explorar el uso de algoritmos genéticos o metaheurísticas para encontrar soluciones aproximadas en un tiempo razonable, incluso en espacios de soluciones muy grandes. Estos enfoques ofrecen la posibilidad de obtener soluciones aceptables en problemas que serían impracticables de resolver con fuerza bruta o búsqueda aleatoria."
   ]
  },
  {
   "cell_type": "code",
   "execution_count": null,
   "metadata": {},
   "outputs": [],
   "source": []
  }
 ],
 "metadata": {
  "colab": {
   "provenance": []
  },
  "kernelspec": {
   "display_name": "Python 3 (ipykernel)",
   "language": "python",
   "name": "python3"
  },
  "language_info": {
   "codemirror_mode": {
    "name": "ipython",
    "version": 3
   },
   "file_extension": ".py",
   "mimetype": "text/x-python",
   "name": "python",
   "nbconvert_exporter": "python",
   "pygments_lexer": "ipython3",
   "version": "3.11.5"
  }
 },
 "nbformat": 4,
 "nbformat_minor": 1
}
